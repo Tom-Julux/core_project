{
 "cells": [
  {
   "cell_type": "code",
   "execution_count": 1,
   "id": "1f934a28",
   "metadata": {},
   "outputs": [],
   "source": [
    "%load_ext autoreload\n",
    "%autoreload 2"
   ]
  },
  {
   "cell_type": "code",
   "execution_count": 2,
   "id": "7bd0c60c",
   "metadata": {},
   "outputs": [],
   "source": [
    "from napari import Viewer\n",
    "import SimpleITK as sitk\n",
    "import numpy as np"
   ]
  },
  {
   "cell_type": "code",
   "execution_count": 3,
   "id": "b901ff27",
   "metadata": {},
   "outputs": [],
   "source": [
    "viewer = Viewer()"
   ]
  },
  {
   "cell_type": "code",
   "execution_count": 4,
   "id": "69264865",
   "metadata": {},
   "outputs": [
    {
     "data": {
      "text/plain": [
       "<napari._qt.widgets.qt_viewer_dock_widget.QtViewerDockWidget at 0x319daf5c0>"
      ]
     },
     "execution_count": 4,
     "metadata": {},
     "output_type": "execute_result"
    }
   ],
   "source": [
    "from demo_widget import DemoWidget\n",
    "\n",
    "widget = DemoWidget(viewer)\n",
    "viewer.window.add_dock_widget(\n",
    "    widget, name=\"core tool demo\", area=\"left\"\n",
    ")"
   ]
  },
  {
   "cell_type": "code",
   "execution_count": null,
   "id": "2012eb8f",
   "metadata": {},
   "outputs": [
    {
     "name": "stdout",
     "output_type": "stream",
     "text": [
      "INFO: Loading demo: SAM2 2D+t CineMRI\n",
      "InteractiveSegmentationWidgetBase initialized\n"
     ]
    },
    {
     "name": "stdout",
     "output_type": "stream",
     "text": [
      "run_predict_in_thread\n"
     ]
    },
    {
     "name": "stderr",
     "output_type": "stream",
     "text": [
      "WARNING: QObject::connect: Cannot queue arguments of type 'QVector<int>'\n",
      "(Make sure 'QVector<int>' is registered using qRegisterMetaType().)\n",
      "WARNING:vispy:QObject::connect: Cannot queue arguments of type 'QVector<int>'\n",
      "(Make sure 'QVector<int>' is registered using qRegisterMetaType().)\n"
     ]
    },
    {
     "name": "stdout",
     "output_type": "stream",
     "text": [
      "Positive points: [[310.84750282 174.73462703]]\n",
      "run_predict_in_thread\n",
      "run_predict_in_thread\n",
      "Positive points: [[169.88364404 111.95720004]]\n",
      "run_predict_in_thread\n",
      "run_predict_in_thread\n",
      "run_predict_in_thread\n",
      "run_predict_in_thread\n",
      "Positive points: [[ 96.26284329 121.08846215]]\n",
      "run_predict_in_thread\n",
      "Positive points: [[ 96.26284329 121.08846215]\n",
      " [177.70918067 140.15037233]]\n",
      "run_predict_in_thread\n",
      "run_predict_in_thread\n",
      "run_predict_in_thread\n",
      "run_predict_in_thread\n",
      "Positive points: [[ 84.47911952 169.26310518]]\n",
      "run_predict_in_thread\n",
      "run_predict_in_thread\n",
      "run_predict_in_thread\n",
      "run_predict_in_thread\n",
      "Positive points: [[ 76.507776   146.73539523]]\n",
      "run_predict_in_thread\n",
      "run_predict_in_thread\n",
      "run_predict_in_thread\n",
      "run_predict_in_thread\n",
      "Positive points: [[153.44856996  63.20957837]]\n",
      "run_predict_in_thread\n",
      "Positive points: [[153.44856996  63.20957837]\n",
      " [125.37557757  56.97113562]]\n",
      "run_predict_in_thread\n",
      "Positive points: [[153.44856996  63.20957837]\n",
      " [125.37557757  56.97113562]\n",
      " [ 88.2915012   66.6753799 ]]\n",
      "run_predict_in_thread\n",
      "Positive points: [[153.44856996  63.20957837]\n",
      " [125.37557757  56.97113562]\n",
      " [ 88.2915012   66.6753799 ]\n",
      " [ 83.09279891  83.31122724]]\n",
      "run_predict_in_thread\n",
      "run_predict_in_thread\n",
      "run_predict_in_thread\n",
      "run_predict_in_thread\n",
      "Positive points: [[124.33583711  20.2336394 ]]\n",
      "run_predict_in_thread\n",
      "run_predict_in_thread\n",
      "run_predict_in_thread\n",
      "run_predict_in_thread\n",
      "Positive points: [[160.03359287 228.18173118]]\n",
      "Positive points: [[160.03359287 228.18173118]]\n",
      "run_predict_in_thread\n",
      "run_predict_in_thread\n",
      "run_predict_in_thread\n",
      "run_predict_in_thread\n",
      "Positive points: [[ 85.51885998 211.54588384]]\n",
      "run_predict_in_thread\n",
      "run_predict_in_thread\n",
      "run_predict_in_thread\n",
      "run_predict_in_thread\n",
      "run_predict_in_thread\n",
      "run_predict_in_thread\n",
      "run_predict_in_thread\n",
      "Error in on_prompt_update_event: wrapped C/C++ object of type QComboBox has been deleted\n",
      "Traceback: Traceback (most recent call last):\n",
      "  File \"/Users/tomjulius/Developer/core_project/napari-interactive/src/napari_interactive/base_widget.py\", line 674, in _worker\n",
      "    self.predict()\n",
      "  File \"/Users/tomjulius/Developer/core_project/napari-interactive/src/napari_interactive/_widget_2d_sam.py\", line 83, in predict\n",
      "    prompt_type = get_value(self.prompt_type_select)[0]\n",
      "                  ^^^^^^^^^^^^^^^^^^^^^^^^^^^^^^^^^^\n",
      "  File \"/Users/tomjulius/Developer/napari-plugins/napari_toolkit/src/napari_toolkit/utils/widget_getter.py\", line 68, in get_value\n",
      "    return widget.currentText(), widget.currentIndex()\n",
      "           ^^^^^^^^^^^^^^^^^^^^\n",
      "RuntimeError: wrapped C/C++ object of type QComboBox has been deleted\n",
      "\n"
     ]
    },
    {
     "name": "stderr",
     "output_type": "stream",
     "text": [
      "Traceback (most recent call last):\n",
      "  File \"/Users/tomjulius/Developer/core_project/napari-interactive/src/napari_interactive/base_widget.py\", line 683, in _on_started\n",
      "    self.run_button.setEnabled(False)\n",
      "RuntimeError: wrapped C/C++ object of type QPushButton has been deleted\n",
      "Traceback (most recent call last):\n",
      "  File \"/Users/tomjulius/Developer/core_project/napari-interactive/src/napari_interactive/base_widget.py\", line 688, in _on_done\n",
      "    self.status_label.setText(\"Status: Ready\")\n",
      "RuntimeError: wrapped C/C++ object of type QLabel has been deleted\n"
     ]
    }
   ],
   "source": [
    "widget.load_demo(\"SAM2 2D+t CineMRI\")"
   ]
  }
 ],
 "metadata": {
  "kernelspec": {
   "display_name": "Python 3",
   "language": "python",
   "name": "python3"
  },
  "language_info": {
   "codemirror_mode": {
    "name": "ipython",
    "version": 3
   },
   "file_extension": ".py",
   "mimetype": "text/x-python",
   "name": "python",
   "nbconvert_exporter": "python",
   "pygments_lexer": "ipython3",
   "version": "3.12.5"
  }
 },
 "nbformat": 4,
 "nbformat_minor": 5
}
